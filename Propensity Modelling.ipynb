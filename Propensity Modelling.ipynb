{
 "cells": [
  {
   "cell_type": "code",
   "execution_count": 10,
   "id": "95962df1",
   "metadata": {},
   "outputs": [],
   "source": [
    "import torch\n",
    "import random\n",
    "import numpy as np\n",
    "from src.utils.config import get_small_classifier_config\n",
    "from src.training.classifier_trainer import SimpleTextDataset, train_classifier, evaluate\n",
    "import csv, random, time, datetime as dt\n",
    "import pandas as pd\n",
    "from pathlib import Path"
   ]
  },
  {
   "cell_type": "markdown",
   "id": "31b81458",
   "metadata": {},
   "source": [
    "### Model Config"
   ]
  },
  {
   "cell_type": "code",
   "execution_count": 12,
   "id": "f024419f",
   "metadata": {},
   "outputs": [],
   "source": [
    "def set_seed(seed=42):\n",
    "    random.seed(seed)\n",
    "    np.random.seed(seed)\n",
    "    torch.manual_seed(seed)\n",
    "    if torch.cuda.is_available():\n",
    "        torch.cuda.manual_seed_all(seed)\n",
    "\n",
    "set_seed(42)\n",
    "\n",
    "cfg = get_small_classifier_config()\n",
    "cfg.num_classes = 2  # binary\n",
    "\n",
    "# Adjust hyper parameters\n",
    "cfg.learning_rate = 1e-4\n",
    "cfg.weight_decay = 0.01\n",
    "cfg.max_epochs = 8"
   ]
  },
  {
   "cell_type": "markdown",
   "id": "d973f902",
   "metadata": {},
   "source": [
    "### Data Preprocessing"
   ]
  },
  {
   "cell_type": "code",
   "execution_count": 13,
   "id": "43e69206",
   "metadata": {},
   "outputs": [
    {
     "data": {
      "text/html": [
       "<div>\n",
       "<style scoped>\n",
       "    .dataframe tbody tr th:only-of-type {\n",
       "        vertical-align: middle;\n",
       "    }\n",
       "\n",
       "    .dataframe tbody tr th {\n",
       "        vertical-align: top;\n",
       "    }\n",
       "\n",
       "    .dataframe thead th {\n",
       "        text-align: right;\n",
       "    }\n",
       "</style>\n",
       "<table border=\"1\" class=\"dataframe\">\n",
       "  <thead>\n",
       "    <tr style=\"text-align: right;\">\n",
       "      <th></th>\n",
       "      <th>user_pseudo_id</th>\n",
       "      <th>session_id</th>\n",
       "      <th>date_formatted</th>\n",
       "      <th>event_timestamp</th>\n",
       "      <th>event_name</th>\n",
       "      <th>rev_usd</th>\n",
       "      <th>unique_items</th>\n",
       "      <th>qty</th>\n",
       "      <th>page_location</th>\n",
       "      <th>page_title</th>\n",
       "    </tr>\n",
       "  </thead>\n",
       "  <tbody>\n",
       "    <tr>\n",
       "      <th>0</th>\n",
       "      <td>u_001</td>\n",
       "      <td>s_001</td>\n",
       "      <td>2025-08-28</td>\n",
       "      <td>1756358400000</td>\n",
       "      <td>session_start</td>\n",
       "      <td>0.0</td>\n",
       "      <td>0</td>\n",
       "      <td>0</td>\n",
       "      <td>https://example.com/</td>\n",
       "      <td>Home</td>\n",
       "    </tr>\n",
       "    <tr>\n",
       "      <th>1</th>\n",
       "      <td>u_001</td>\n",
       "      <td>s_001</td>\n",
       "      <td>2025-08-28</td>\n",
       "      <td>1756358405000</td>\n",
       "      <td>page_view</td>\n",
       "      <td>0.0</td>\n",
       "      <td>0</td>\n",
       "      <td>0</td>\n",
       "      <td>https://example.com/category/shoes</td>\n",
       "      <td>Shoes Category</td>\n",
       "    </tr>\n",
       "    <tr>\n",
       "      <th>2</th>\n",
       "      <td>u_001</td>\n",
       "      <td>s_001</td>\n",
       "      <td>2025-08-28</td>\n",
       "      <td>1756358410000</td>\n",
       "      <td>view_item</td>\n",
       "      <td>0.0</td>\n",
       "      <td>1</td>\n",
       "      <td>1</td>\n",
       "      <td>https://example.com/product/sku123</td>\n",
       "      <td>Running Shoe Model A</td>\n",
       "    </tr>\n",
       "    <tr>\n",
       "      <th>3</th>\n",
       "      <td>u_001</td>\n",
       "      <td>s_001</td>\n",
       "      <td>2025-08-28</td>\n",
       "      <td>1756358413000</td>\n",
       "      <td>add_to_cart</td>\n",
       "      <td>0.0</td>\n",
       "      <td>1</td>\n",
       "      <td>1</td>\n",
       "      <td>https://example.com/product/sku123</td>\n",
       "      <td>Running Shoe Model A</td>\n",
       "    </tr>\n",
       "    <tr>\n",
       "      <th>4</th>\n",
       "      <td>u_001</td>\n",
       "      <td>s_001</td>\n",
       "      <td>2025-08-28</td>\n",
       "      <td>1756358418000</td>\n",
       "      <td>view_item</td>\n",
       "      <td>0.0</td>\n",
       "      <td>1</td>\n",
       "      <td>1</td>\n",
       "      <td>https://example.com/product/sku456</td>\n",
       "      <td>Trail Shoe Model B</td>\n",
       "    </tr>\n",
       "  </tbody>\n",
       "</table>\n",
       "</div>"
      ],
      "text/plain": [
       "  user_pseudo_id session_id date_formatted  event_timestamp     event_name  \\\n",
       "0          u_001      s_001     2025-08-28    1756358400000  session_start   \n",
       "1          u_001      s_001     2025-08-28    1756358405000      page_view   \n",
       "2          u_001      s_001     2025-08-28    1756358410000      view_item   \n",
       "3          u_001      s_001     2025-08-28    1756358413000    add_to_cart   \n",
       "4          u_001      s_001     2025-08-28    1756358418000      view_item   \n",
       "\n",
       "   rev_usd  unique_items  qty                       page_location  \\\n",
       "0      0.0             0    0                https://example.com/   \n",
       "1      0.0             0    0  https://example.com/category/shoes   \n",
       "2      0.0             1    1  https://example.com/product/sku123   \n",
       "3      0.0             1    1  https://example.com/product/sku123   \n",
       "4      0.0             1    1  https://example.com/product/sku456   \n",
       "\n",
       "             page_title  \n",
       "0                  Home  \n",
       "1        Shoes Category  \n",
       "2  Running Shoe Model A  \n",
       "3  Running Shoe Model A  \n",
       "4    Trail Shoe Model B  "
      ]
     },
     "metadata": {},
     "output_type": "display_data"
    },
    {
     "name": "stdout",
     "output_type": "stream",
     "text": [
      "user_pseudo_id      object\n",
      "session_id          object\n",
      "date_formatted      object\n",
      "event_timestamp      int64\n",
      "event_name          object\n",
      "rev_usd            float64\n",
      "unique_items         int64\n",
      "qty                  int64\n",
      "page_location       object\n",
      "page_title          object\n",
      "dtype: object\n",
      "Rows: 42\n"
     ]
    }
   ],
   "source": [
    "csv_path = Path(\"fake-test-data.csv\")  # adjust if stored elsewhere\n",
    "df = pd.read_csv(csv_path)\n",
    "\n",
    "# ensure numeric types\n",
    "df[\"rev_usd\"] = df[\"rev_usd\"].astype(float)\n",
    "df[\"event_timestamp\"] = df[\"event_timestamp\"].astype(\"int64\")\n",
    "\n",
    "display(df.head())\n",
    "print(df.dtypes)\n",
    "print(f\"Rows: {len(df)}\")"
   ]
  },
  {
   "cell_type": "markdown",
   "id": "3b1134e4",
   "metadata": {},
   "source": [
    "### Train Test Split"
   ]
  },
  {
   "cell_type": "code",
   "execution_count": 5,
   "id": "0e068f05",
   "metadata": {},
   "outputs": [],
   "source": [
    "split = int(0.8 * len(samples))\n",
    "train_ds = SimpleTextDataset(samples[:split])\n",
    "val_ds = SimpleTextDataset(samples[split:])"
   ]
  },
  {
   "cell_type": "markdown",
   "id": "ddc0a66d",
   "metadata": {},
   "source": [
    "### Train and Test Model"
   ]
  },
  {
   "cell_type": "code",
   "execution_count": 6,
   "id": "330c1923",
   "metadata": {},
   "outputs": [
    {
     "name": "stdout",
     "output_type": "stream",
     "text": [
      "epoch 0 step 0 lr 6.25e-06 loss 0.4298 acc 1.0000 elapsed 0.1s\n",
      "[best] val_loss 0.0113 acc 1.0000\n",
      "val_loss 0.0138 acc 1.0000\n",
      "epoch 2 step 100 lr 8.19e-05 loss 0.8947 acc 0.7500 elapsed 4.1s\n",
      "val_loss 0.0257 acc 1.0000\n",
      "val_loss 0.0178 acc 1.0000\n",
      "val_loss 0.0195 acc 1.0000\n",
      "epoch 5 step 200 lr 3.33e-05 loss 0.0279 acc 1.0000 elapsed 8.3s\n",
      "val_loss 0.0174 acc 1.0000\n",
      "val_loss 0.0165 acc 1.0000\n",
      "epoch 7 step 300 lr 9.61e-07 loss 0.0222 acc 1.0000 elapsed 12.3s\n",
      "val_loss 0.0164 acc 1.0000\n"
     ]
    }
   ],
   "source": [
    "model = train_classifier(cfg, train_ds, val_ds)\n",
    "torch.save(model.state_dict(), \"classifier_model.pt\")"
   ]
  }
 ],
 "metadata": {
  "kernelspec": {
   "display_name": ".venv",
   "language": "python",
   "name": "python3"
  },
  "language_info": {
   "codemirror_mode": {
    "name": "ipython",
    "version": 3
   },
   "file_extension": ".py",
   "mimetype": "text/x-python",
   "name": "python",
   "nbconvert_exporter": "python",
   "pygments_lexer": "ipython3",
   "version": "3.12.4"
  }
 },
 "nbformat": 4,
 "nbformat_minor": 5
}
